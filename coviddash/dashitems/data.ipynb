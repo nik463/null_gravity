{
 "cells": [
  {
   "cell_type": "code",
   "execution_count": 9,
   "metadata": {},
   "outputs": [],
   "source": [
    "import numpy as np\n",
    "import pandas as pd\n"
   ]
  },
  {
   "cell_type": "code",
   "execution_count": 2,
   "metadata": {},
   "outputs": [],
   "source": [
    "# import plotly libraries\n"
   ]
  },
  {
   "cell_type": "code",
   "execution_count": 3,
   "metadata": {},
   "outputs": [],
   "source": [
    "import plotly.express as px\n",
    "\n",
    "\n",
    "import plotly.io as pio\n",
    "pio.renderers.default = \"browser\"\n"
   ]
  },
  {
   "cell_type": "code",
   "execution_count": 10,
   "metadata": {},
   "outputs": [],
   "source": [
    "df = pd.read_csv(\"https://covid.ourworldindata.org/data/owid-covid-data.csv\")\n"
   ]
  },
  {
   "cell_type": "code",
   "execution_count": 7,
   "metadata": {},
   "outputs": [
    {
     "ename": "NameError",
     "evalue": "name 'pd' is not defined",
     "output_type": "error",
     "traceback": [
      "\u001b[0;31m---------------------------------------------------------------------------\u001b[0m",
      "\u001b[0;31mNameError\u001b[0m                                 Traceback (most recent call last)",
      "\u001b[0;32m/tmp/ipykernel_3368/2330350950.py\u001b[0m in \u001b[0;36m<module>\u001b[0;34m\u001b[0m\n\u001b[0;32m----> 1\u001b[0;31m \u001b[0mdf\u001b[0m\u001b[0;34m[\u001b[0m\u001b[0;34m\"date\"\u001b[0m\u001b[0;34m]\u001b[0m \u001b[0;34m=\u001b[0m \u001b[0mpd\u001b[0m\u001b[0;34m.\u001b[0m\u001b[0mto_datetime\u001b[0m\u001b[0;34m(\u001b[0m\u001b[0mdf\u001b[0m\u001b[0;34m[\u001b[0m\u001b[0;34m\"date\"\u001b[0m\u001b[0;34m]\u001b[0m\u001b[0;34m)\u001b[0m\u001b[0;34m\u001b[0m\u001b[0;34m\u001b[0m\u001b[0m\n\u001b[0m",
      "\u001b[0;31mNameError\u001b[0m: name 'pd' is not defined"
     ]
    }
   ],
   "source": [
    "df[\"date\"] = pd.to_datetime(df[\"date\"])\n"
   ]
  },
  {
   "cell_type": "code",
   "execution_count": 6,
   "metadata": {},
   "outputs": [
    {
     "data": {
      "text/plain": [
       "Index(['iso_code', 'continent', 'location', 'date', 'total_cases', 'new_cases',\n",
       "       'new_cases_smoothed', 'total_deaths', 'new_deaths',\n",
       "       'new_deaths_smoothed', 'total_cases_per_million',\n",
       "       'new_cases_per_million', 'new_cases_smoothed_per_million',\n",
       "       'total_deaths_per_million', 'new_deaths_per_million',\n",
       "       'new_deaths_smoothed_per_million', 'reproduction_rate', 'icu_patients',\n",
       "       'icu_patients_per_million', 'hosp_patients',\n",
       "       'hosp_patients_per_million', 'weekly_icu_admissions',\n",
       "       'weekly_icu_admissions_per_million', 'weekly_hosp_admissions',\n",
       "       'weekly_hosp_admissions_per_million', 'new_tests', 'total_tests',\n",
       "       'total_tests_per_thousand', 'new_tests_per_thousand',\n",
       "       'new_tests_smoothed', 'new_tests_smoothed_per_thousand',\n",
       "       'positive_rate', 'tests_per_case', 'tests_units', 'total_vaccinations',\n",
       "       'people_vaccinated', 'people_fully_vaccinated', 'total_boosters',\n",
       "       'new_vaccinations', 'new_vaccinations_smoothed',\n",
       "       'total_vaccinations_per_hundred', 'people_vaccinated_per_hundred',\n",
       "       'people_fully_vaccinated_per_hundred', 'total_boosters_per_hundred',\n",
       "       'new_vaccinations_smoothed_per_million',\n",
       "       'new_people_vaccinated_smoothed',\n",
       "       'new_people_vaccinated_smoothed_per_hundred', 'stringency_index',\n",
       "       'population', 'population_density', 'median_age', 'aged_65_older',\n",
       "       'aged_70_older', 'gdp_per_capita', 'extreme_poverty',\n",
       "       'cardiovasc_death_rate', 'diabetes_prevalence', 'female_smokers',\n",
       "       'male_smokers', 'handwashing_facilities', 'hospital_beds_per_thousand',\n",
       "       'life_expectancy', 'human_development_index',\n",
       "       'excess_mortality_cumulative_absolute', 'excess_mortality_cumulative',\n",
       "       'excess_mortality', 'excess_mortality_cumulative_per_million'],\n",
       "      dtype='object')"
      ]
     },
     "execution_count": 6,
     "metadata": {},
     "output_type": "execute_result"
    }
   ],
   "source": [
    "df.columns\n"
   ]
  },
  {
   "cell_type": "code",
   "execution_count": 7,
   "metadata": {},
   "outputs": [],
   "source": [
    "dicti = {'label':df[\"iso_code\"].unique(),'value':df[\"location\"].unique()}"
   ]
  },
  {
   "cell_type": "code",
   "execution_count": 23,
   "metadata": {},
   "outputs": [],
   "source": [
    "x=[]\n",
    "z=[]\n",
    "for i in df['iso_code'].unique():\n",
    "    x.append(i)\n",
    "    for y in df[\"location\"].unique():\n",
    "        z.append(y)\n",
    "    print('label',':',x,'value',':',z)\n",
    "    "
   ]
  },
  {
   "cell_type": "code",
   "execution_count": 24,
   "metadata": {},
   "outputs": [
    {
     "data": {
      "text/plain": [
       "['AFG',\n",
       " 'OWID_AFR',\n",
       " 'ALB',\n",
       " 'DZA',\n",
       " 'AND',\n",
       " 'AGO',\n",
       " 'AIA',\n",
       " 'ATG',\n",
       " 'ARG',\n",
       " 'ARM',\n",
       " 'ABW',\n",
       " 'OWID_ASI',\n",
       " 'AUS',\n",
       " 'AUT',\n",
       " 'AZE',\n",
       " 'BHS',\n",
       " 'BHR',\n",
       " 'BGD',\n",
       " 'BRB',\n",
       " 'BLR',\n",
       " 'BEL',\n",
       " 'BLZ',\n",
       " 'BEN',\n",
       " 'BMU',\n",
       " 'BTN',\n",
       " 'BOL',\n",
       " 'BES',\n",
       " 'BIH',\n",
       " 'BWA',\n",
       " 'BRA',\n",
       " 'VGB',\n",
       " 'BRN',\n",
       " 'BGR',\n",
       " 'BFA',\n",
       " 'BDI',\n",
       " 'KHM',\n",
       " 'CMR',\n",
       " 'CAN',\n",
       " 'CPV',\n",
       " 'CYM',\n",
       " 'CAF',\n",
       " 'TCD',\n",
       " 'CHL',\n",
       " 'CHN',\n",
       " 'COL',\n",
       " 'COM',\n",
       " 'COG',\n",
       " 'COK',\n",
       " 'CRI',\n",
       " 'CIV',\n",
       " 'HRV',\n",
       " 'CUB',\n",
       " 'CUW',\n",
       " 'CYP',\n",
       " 'CZE',\n",
       " 'COD',\n",
       " 'DNK',\n",
       " 'DJI',\n",
       " 'DMA',\n",
       " 'DOM',\n",
       " 'ECU',\n",
       " 'EGY',\n",
       " 'SLV',\n",
       " 'GNQ',\n",
       " 'ERI',\n",
       " 'EST',\n",
       " 'SWZ',\n",
       " 'ETH',\n",
       " 'OWID_EUR',\n",
       " 'OWID_EUN',\n",
       " 'FRO',\n",
       " 'FLK',\n",
       " 'FJI',\n",
       " 'FIN',\n",
       " 'FRA',\n",
       " 'PYF',\n",
       " 'GAB',\n",
       " 'GMB',\n",
       " 'GEO',\n",
       " 'DEU',\n",
       " 'GHA',\n",
       " 'GIB',\n",
       " 'GRC',\n",
       " 'GRL',\n",
       " 'GRD',\n",
       " 'GTM',\n",
       " 'GGY',\n",
       " 'GIN',\n",
       " 'GNB',\n",
       " 'GUY',\n",
       " 'HTI',\n",
       " 'OWID_HIC',\n",
       " 'HND',\n",
       " 'HKG',\n",
       " 'HUN',\n",
       " 'ISL',\n",
       " 'IND',\n",
       " 'IDN',\n",
       " 'OWID_INT',\n",
       " 'IRN',\n",
       " 'IRQ',\n",
       " 'IRL',\n",
       " 'IMN',\n",
       " 'ISR',\n",
       " 'ITA',\n",
       " 'JAM',\n",
       " 'JPN',\n",
       " 'JEY',\n",
       " 'JOR',\n",
       " 'KAZ',\n",
       " 'KEN',\n",
       " 'KIR',\n",
       " 'OWID_KOS',\n",
       " 'KWT',\n",
       " 'KGZ',\n",
       " 'LAO',\n",
       " 'LVA',\n",
       " 'LBN',\n",
       " 'LSO',\n",
       " 'LBR',\n",
       " 'LBY',\n",
       " 'LIE',\n",
       " 'LTU',\n",
       " 'OWID_LIC',\n",
       " 'OWID_LMC',\n",
       " 'LUX',\n",
       " 'MAC',\n",
       " 'MDG',\n",
       " 'MWI',\n",
       " 'MYS',\n",
       " 'MDV',\n",
       " 'MLI',\n",
       " 'MLT',\n",
       " 'MHL',\n",
       " 'MRT',\n",
       " 'MUS',\n",
       " 'MEX',\n",
       " 'FSM',\n",
       " 'MDA',\n",
       " 'MCO',\n",
       " 'MNG',\n",
       " 'MNE',\n",
       " 'MSR',\n",
       " 'MAR',\n",
       " 'MOZ',\n",
       " 'MMR',\n",
       " 'NAM',\n",
       " 'NRU',\n",
       " 'NPL',\n",
       " 'NLD',\n",
       " 'NCL',\n",
       " 'NZL',\n",
       " 'NIC',\n",
       " 'NER',\n",
       " 'NGA',\n",
       " 'NIU',\n",
       " 'OWID_NAM',\n",
       " 'MKD',\n",
       " 'OWID_CYN',\n",
       " 'NOR',\n",
       " 'OWID_OCE',\n",
       " 'OMN',\n",
       " 'PAK',\n",
       " 'PLW',\n",
       " 'PSE',\n",
       " 'PAN',\n",
       " 'PNG',\n",
       " 'PRY',\n",
       " 'PER',\n",
       " 'PHL',\n",
       " 'PCN',\n",
       " 'POL',\n",
       " 'PRT',\n",
       " 'QAT',\n",
       " 'ROU',\n",
       " 'RUS',\n",
       " 'RWA',\n",
       " 'SHN',\n",
       " 'KNA',\n",
       " 'LCA',\n",
       " 'SPM',\n",
       " 'VCT',\n",
       " 'WSM',\n",
       " 'SMR',\n",
       " 'STP',\n",
       " 'SAU',\n",
       " 'SEN',\n",
       " 'SRB',\n",
       " 'SYC',\n",
       " 'SLE',\n",
       " 'SGP',\n",
       " 'SXM',\n",
       " 'SVK',\n",
       " 'SVN',\n",
       " 'SLB',\n",
       " 'SOM',\n",
       " 'ZAF',\n",
       " 'OWID_SAM',\n",
       " 'KOR',\n",
       " 'SSD',\n",
       " 'ESP',\n",
       " 'LKA',\n",
       " 'SDN',\n",
       " 'SUR',\n",
       " 'SWE',\n",
       " 'CHE',\n",
       " 'SYR',\n",
       " 'TWN',\n",
       " 'TJK',\n",
       " 'TZA',\n",
       " 'THA',\n",
       " 'TLS',\n",
       " 'TGO',\n",
       " 'TKL',\n",
       " 'TON',\n",
       " 'TTO',\n",
       " 'TUN',\n",
       " 'TUR',\n",
       " 'TKM',\n",
       " 'TCA',\n",
       " 'TUV',\n",
       " 'UGA',\n",
       " 'UKR',\n",
       " 'ARE',\n",
       " 'GBR',\n",
       " 'USA',\n",
       " 'OWID_UMC',\n",
       " 'URY',\n",
       " 'UZB',\n",
       " 'VUT',\n",
       " 'VAT',\n",
       " 'VEN',\n",
       " 'VNM',\n",
       " 'WLF',\n",
       " 'OWID_WRL',\n",
       " 'YEM',\n",
       " 'ZMB',\n",
       " 'ZWE']"
      ]
     },
     "execution_count": 24,
     "metadata": {},
     "output_type": "execute_result"
    }
   ],
   "source": [
    "x"
   ]
  },
  {
   "cell_type": "code",
   "execution_count": 7,
   "metadata": {},
   "outputs": [
    {
     "name": "stdout",
     "output_type": "stream",
     "text": [
      "<class 'pandas.core.frame.DataFrame'>\n",
      "RangeIndex: 156086 entries, 0 to 156085\n",
      "Data columns (total 67 columns):\n",
      " #   Column                                      Non-Null Count   Dtype         \n",
      "---  ------                                      --------------   -----         \n",
      " 0   iso_code                                    156086 non-null  object        \n",
      " 1   continent                                   146702 non-null  object        \n",
      " 2   location                                    156086 non-null  object        \n",
      " 3   date                                        156086 non-null  datetime64[ns]\n",
      " 4   total_cases                                 153258 non-null  float64       \n",
      " 5   new_cases                                   153211 non-null  float64       \n",
      " 6   new_cases_smoothed                          152060 non-null  float64       \n",
      " 7   total_deaths                                135859 non-null  float64       \n",
      " 8   new_deaths                                  136028 non-null  float64       \n",
      " 9   new_deaths_smoothed                         135896 non-null  float64       \n",
      " 10  total_cases_per_million                     152544 non-null  float64       \n",
      " 11  new_cases_per_million                       152497 non-null  float64       \n",
      " 12  new_cases_smoothed_per_million              151351 non-null  float64       \n",
      " 13  total_deaths_per_million                    135158 non-null  float64       \n",
      " 14  new_deaths_per_million                      135327 non-null  float64       \n",
      " 15  new_deaths_smoothed_per_million             135195 non-null  float64       \n",
      " 16  reproduction_rate                           117745 non-null  float64       \n",
      " 17  icu_patients                                21250 non-null   float64       \n",
      " 18  icu_patients_per_million                    21250 non-null   float64       \n",
      " 19  hosp_patients                               22481 non-null   float64       \n",
      " 20  hosp_patients_per_million                   22481 non-null   float64       \n",
      " 21  weekly_icu_admissions                       4337 non-null    float64       \n",
      " 22  weekly_icu_admissions_per_million           4337 non-null    float64       \n",
      " 23  weekly_hosp_admissions                      8780 non-null    float64       \n",
      " 24  weekly_hosp_admissions_per_million          8780 non-null    float64       \n",
      " 25  new_tests                                   61447 non-null   float64       \n",
      " 26  total_tests                                 63000 non-null   float64       \n",
      " 27  total_tests_per_thousand                    63000 non-null   float64       \n",
      " 28  new_tests_per_thousand                      61447 non-null   float64       \n",
      " 29  new_tests_smoothed                          76723 non-null   float64       \n",
      " 30  new_tests_smoothed_per_thousand             76010 non-null   float64       \n",
      " 31  positive_rate                               71722 non-null   float64       \n",
      " 32  tests_per_case                              71025 non-null   float64       \n",
      " 33  tests_units                                 78693 non-null   object        \n",
      " 34  total_vaccinations                          40786 non-null   float64       \n",
      " 35  people_vaccinated                           38979 non-null   float64       \n",
      " 36  people_fully_vaccinated                     36031 non-null   float64       \n",
      " 37  total_boosters                              13574 non-null   float64       \n",
      " 38  new_vaccinations                            33857 non-null   float64       \n",
      " 39  new_vaccinations_smoothed                   74760 non-null   float64       \n",
      " 40  total_vaccinations_per_hundred              40786 non-null   float64       \n",
      " 41  people_vaccinated_per_hundred               38979 non-null   float64       \n",
      " 42  people_fully_vaccinated_per_hundred         36031 non-null   float64       \n",
      " 43  total_boosters_per_hundred                  13574 non-null   float64       \n",
      " 44  new_vaccinations_smoothed_per_million       74760 non-null   float64       \n",
      " 45  new_people_vaccinated_smoothed              73728 non-null   float64       \n",
      " 46  new_people_vaccinated_smoothed_per_hundred  73728 non-null   float64       \n",
      " 47  stringency_index                            122256 non-null  float64       \n",
      " 48  population                                  155055 non-null  float64       \n",
      " 49  population_density                          138946 non-null  float64       \n",
      " 50  median_age                                  129507 non-null  float64       \n",
      " 51  aged_65_older                               128101 non-null  float64       \n",
      " 52  aged_70_older                               128812 non-null  float64       \n",
      " 53  gdp_per_capita                              130094 non-null  float64       \n",
      " 54  extreme_poverty                             85751 non-null   float64       \n",
      " 55  cardiovasc_death_rate                       128498 non-null  float64       \n",
      " 56  diabetes_prevalence                         135229 non-null  float64       \n",
      " 57  female_smokers                              99662 non-null   float64       \n",
      " 58  male_smokers                                98230 non-null   float64       \n",
      " 59  handwashing_facilities                      64362 non-null   float64       \n",
      " 60  hospital_beds_per_thousand                  116220 non-null  float64       \n",
      " 61  life_expectancy                             145688 non-null  float64       \n",
      " 62  human_development_index                     127973 non-null  float64       \n",
      " 63  excess_mortality_cumulative_absolute        5338 non-null    float64       \n",
      " 64  excess_mortality_cumulative                 5338 non-null    float64       \n",
      " 65  excess_mortality                            5338 non-null    float64       \n",
      " 66  excess_mortality_cumulative_per_million     5338 non-null    float64       \n",
      "dtypes: datetime64[ns](1), float64(62), object(4)\n",
      "memory usage: 79.8+ MB\n"
     ]
    }
   ],
   "source": [
    "df.info()\n"
   ]
  },
  {
   "cell_type": "code",
   "execution_count": 8,
   "metadata": {},
   "outputs": [],
   "source": [
    "def get_country_data(data, country='IND'):\n",
    "    df = data[data[\"iso_code\"] == country]\n",
    "    return df\n"
   ]
  },
  {
   "cell_type": "code",
   "execution_count": 9,
   "metadata": {},
   "outputs": [],
   "source": [
    "# total death confirmed by country\n",
    "\n",
    "\n",
    "def get_total_death(data, country='IND'):\n",
    "    data[data[\"iso_code\"] == country]\n",
    "    total = int(data.total_deaths.iloc[-2])\n",
    "    return total\n"
   ]
  },
  {
   "cell_type": "code",
   "execution_count": 10,
   "metadata": {},
   "outputs": [],
   "source": [
    "# total cases by country\n",
    "\n",
    "def get_total_cases(data, country=\"IND\"):\n",
    "    data[data[\"iso_code\"] == country]\n",
    "    cases = int(data.total_cases.iloc[-2])\n",
    "    return cases\n"
   ]
  },
  {
   "cell_type": "code",
   "execution_count": 11,
   "metadata": {},
   "outputs": [],
   "source": [
    "# total new cases by country\n",
    "\n",
    "def get_total_newcase(data, country='IND'):\n",
    "    data[data[\"iso_code\"] == country]\n",
    "    recovered = int(data.new_cases.iloc[-1])\n",
    "    return recovered\n"
   ]
  },
  {
   "cell_type": "code",
   "execution_count": 12,
   "metadata": {},
   "outputs": [
    {
     "data": {
      "text/plain": [
       "665"
      ]
     },
     "execution_count": 12,
     "metadata": {},
     "output_type": "execute_result"
    }
   ],
   "source": [
    "get_total_newcase(df, \"IND\")\n"
   ]
  },
  {
   "cell_type": "code",
   "execution_count": 61,
   "metadata": {},
   "outputs": [],
   "source": [
    "# get data in cleaned time series format for country\n",
    "\n",
    "def process_data(data, country=\"IND\", window=3):\n",
    "    con = data[data[\"iso_code\"] == country]\n",
    "    p_d = pd.DataFrame(con[[\"date\", \"total_cases\"]])\n",
    "    return p_d\n"
   ]
  },
  {
   "cell_type": "code",
   "execution_count": 81,
   "metadata": {},
   "outputs": [],
   "source": [
    "cc = process_data(df, \"IND\", 3)\n"
   ]
  },
  {
   "cell_type": "code",
   "execution_count": 91,
   "metadata": {},
   "outputs": [
    {
     "data": {
      "text/html": [
       "<div>\n",
       "<style scoped>\n",
       "    .dataframe tbody tr th:only-of-type {\n",
       "        vertical-align: middle;\n",
       "    }\n",
       "\n",
       "    .dataframe tbody tr th {\n",
       "        vertical-align: top;\n",
       "    }\n",
       "\n",
       "    .dataframe thead th {\n",
       "        text-align: right;\n",
       "    }\n",
       "</style>\n",
       "<table border=\"1\" class=\"dataframe\">\n",
       "  <thead>\n",
       "    <tr style=\"text-align: right;\">\n",
       "      <th></th>\n",
       "      <th>date</th>\n",
       "      <th>total_cases</th>\n",
       "    </tr>\n",
       "  </thead>\n",
       "  <tbody>\n",
       "    <tr>\n",
       "      <th>65427</th>\n",
       "      <td>2020-01-30</td>\n",
       "      <td>1.0</td>\n",
       "    </tr>\n",
       "    <tr>\n",
       "      <th>65428</th>\n",
       "      <td>2020-01-31</td>\n",
       "      <td>1.0</td>\n",
       "    </tr>\n",
       "    <tr>\n",
       "      <th>65429</th>\n",
       "      <td>2020-02-01</td>\n",
       "      <td>1.0</td>\n",
       "    </tr>\n",
       "    <tr>\n",
       "      <th>65430</th>\n",
       "      <td>2020-02-02</td>\n",
       "      <td>2.0</td>\n",
       "    </tr>\n",
       "    <tr>\n",
       "      <th>65431</th>\n",
       "      <td>2020-02-03</td>\n",
       "      <td>3.0</td>\n",
       "    </tr>\n",
       "    <tr>\n",
       "      <th>...</th>\n",
       "      <td>...</td>\n",
       "      <td>...</td>\n",
       "    </tr>\n",
       "    <tr>\n",
       "      <th>66144</th>\n",
       "      <td>2022-01-16</td>\n",
       "      <td>37380253.0</td>\n",
       "    </tr>\n",
       "    <tr>\n",
       "      <th>66145</th>\n",
       "      <td>2022-01-17</td>\n",
       "      <td>37618271.0</td>\n",
       "    </tr>\n",
       "    <tr>\n",
       "      <th>66146</th>\n",
       "      <td>2022-01-18</td>\n",
       "      <td>37901241.0</td>\n",
       "    </tr>\n",
       "    <tr>\n",
       "      <th>66147</th>\n",
       "      <td>2022-01-19</td>\n",
       "      <td>38218773.0</td>\n",
       "    </tr>\n",
       "    <tr>\n",
       "      <th>66148</th>\n",
       "      <td>2022-01-20</td>\n",
       "      <td>38566027.0</td>\n",
       "    </tr>\n",
       "  </tbody>\n",
       "</table>\n",
       "<p>722 rows × 2 columns</p>\n",
       "</div>"
      ],
      "text/plain": [
       "            date  total_cases\n",
       "65427 2020-01-30          1.0\n",
       "65428 2020-01-31          1.0\n",
       "65429 2020-02-01          1.0\n",
       "65430 2020-02-02          2.0\n",
       "65431 2020-02-03          3.0\n",
       "...          ...          ...\n",
       "66144 2022-01-16   37380253.0\n",
       "66145 2022-01-17   37618271.0\n",
       "66146 2022-01-18   37901241.0\n",
       "66147 2022-01-19   38218773.0\n",
       "66148 2022-01-20   38566027.0\n",
       "\n",
       "[722 rows x 2 columns]"
      ]
     },
     "execution_count": 91,
     "metadata": {},
     "output_type": "execute_result"
    }
   ],
   "source": [
    "cc\n"
   ]
  },
  {
   "cell_type": "code",
   "execution_count": 83,
   "metadata": {},
   "outputs": [
    {
     "data": {
      "text/plain": [
       "True"
      ]
     },
     "execution_count": 83,
     "metadata": {},
     "output_type": "execute_result"
    }
   ],
   "source": [
    "len(cc['date']) == len(cc[\"total_cases\"])\n"
   ]
  },
  {
   "cell_type": "code",
   "execution_count": 61,
   "metadata": {},
   "outputs": [],
   "source": [
    "# Generate Line Graph using Plotly\n"
   ]
  },
  {
   "cell_type": "code",
   "execution_count": 87,
   "metadata": {},
   "outputs": [],
   "source": [
    "def gen_line_graph(country=\"IND\", window=3):\n",
    "    total_df = process_data(data=df, country=country, window=window)\n",
    "    total_df.head(10)\n",
    "    if window == 1:\n",
    "        yaxis_title = \"Daily Cases\"\n",
    "    else:\n",
    "        yaxis_title = \"Daily {} day\".format(window)\n",
    "    fig = px.line(total_df, x='date', y='total_cases', title=\"total case of {}\".format(\n",
    "        country), height=600, color_discrete_sequence=['maroon'])\n",
    "    fig.update_layout(title_x=0.5, plot_bgcolor='#F2DFCE',\n",
    "                      paper_bgcolor='#fff', xaxis_title=\"Date\", yaxis_title=yaxis_title)\n",
    "    return fig\n"
   ]
  },
  {
   "cell_type": "code",
   "execution_count": 88,
   "metadata": {},
   "outputs": [],
   "source": [
    "gen_line_graph(\"IND\", 3)\n"
   ]
  },
  {
   "cell_type": "code",
   "execution_count": 3,
   "metadata": {},
   "outputs": [],
   "source": [
    "## get country list\n",
    "\n",
    "def get_country_list():\n",
    "    return df.location.unique()"
   ]
  },
  {
   "cell_type": "code",
   "execution_count": 11,
   "metadata": {},
   "outputs": [
    {
     "data": {
      "text/plain": [
       "array(['Afghanistan', 'Africa', 'Albania', 'Algeria', 'Andorra', 'Angola',\n",
       "       'Anguilla', 'Antigua and Barbuda', 'Argentina', 'Armenia', 'Aruba',\n",
       "       'Asia', 'Australia', 'Austria', 'Azerbaijan', 'Bahamas', 'Bahrain',\n",
       "       'Bangladesh', 'Barbados', 'Belarus', 'Belgium', 'Belize', 'Benin',\n",
       "       'Bermuda', 'Bhutan', 'Bolivia', 'Bonaire Sint Eustatius and Saba',\n",
       "       'Bosnia and Herzegovina', 'Botswana', 'Brazil',\n",
       "       'British Virgin Islands', 'Brunei', 'Bulgaria', 'Burkina Faso',\n",
       "       'Burundi', 'Cambodia', 'Cameroon', 'Canada', 'Cape Verde',\n",
       "       'Cayman Islands', 'Central African Republic', 'Chad', 'Chile',\n",
       "       'China', 'Colombia', 'Comoros', 'Congo', 'Cook Islands',\n",
       "       'Costa Rica', \"Cote d'Ivoire\", 'Croatia', 'Cuba', 'Curacao',\n",
       "       'Cyprus', 'Czechia', 'Democratic Republic of Congo', 'Denmark',\n",
       "       'Djibouti', 'Dominica', 'Dominican Republic', 'Ecuador', 'Egypt',\n",
       "       'El Salvador', 'Equatorial Guinea', 'Eritrea', 'Estonia',\n",
       "       'Eswatini', 'Ethiopia', 'Europe', 'European Union',\n",
       "       'Faeroe Islands', 'Falkland Islands', 'Fiji', 'Finland', 'France',\n",
       "       'French Polynesia', 'Gabon', 'Gambia', 'Georgia', 'Germany',\n",
       "       'Ghana', 'Gibraltar', 'Greece', 'Greenland', 'Grenada',\n",
       "       'Guatemala', 'Guernsey', 'Guinea', 'Guinea-Bissau', 'Guyana',\n",
       "       'Haiti', 'High income', 'Honduras', 'Hong Kong', 'Hungary',\n",
       "       'Iceland', 'India', 'Indonesia', 'International', 'Iran', 'Iraq',\n",
       "       'Ireland', 'Isle of Man', 'Israel', 'Italy', 'Jamaica', 'Japan',\n",
       "       'Jersey', 'Jordan', 'Kazakhstan', 'Kenya', 'Kiribati', 'Kosovo',\n",
       "       'Kuwait', 'Kyrgyzstan', 'Laos', 'Latvia', 'Lebanon', 'Lesotho',\n",
       "       'Liberia', 'Libya', 'Liechtenstein', 'Lithuania', 'Low income',\n",
       "       'Lower middle income', 'Luxembourg', 'Macao', 'Madagascar',\n",
       "       'Malawi', 'Malaysia', 'Maldives', 'Mali', 'Malta',\n",
       "       'Marshall Islands', 'Mauritania', 'Mauritius', 'Mexico',\n",
       "       'Micronesia (country)', 'Moldova', 'Monaco', 'Mongolia',\n",
       "       'Montenegro', 'Montserrat', 'Morocco', 'Mozambique', 'Myanmar',\n",
       "       'Namibia', 'Nauru', 'Nepal', 'Netherlands', 'New Caledonia',\n",
       "       'New Zealand', 'Nicaragua', 'Niger', 'Nigeria', 'Niue',\n",
       "       'North America', 'North Macedonia', 'Northern Cyprus', 'Norway',\n",
       "       'Oceania', 'Oman', 'Pakistan', 'Palau', 'Palestine', 'Panama',\n",
       "       'Papua New Guinea', 'Paraguay', 'Peru', 'Philippines', 'Pitcairn',\n",
       "       'Poland', 'Portugal', 'Qatar', 'Romania', 'Russia', 'Rwanda',\n",
       "       'Saint Helena', 'Saint Kitts and Nevis', 'Saint Lucia',\n",
       "       'Saint Pierre and Miquelon', 'Saint Vincent and the Grenadines',\n",
       "       'Samoa', 'San Marino', 'Sao Tome and Principe', 'Saudi Arabia',\n",
       "       'Senegal', 'Serbia', 'Seychelles', 'Sierra Leone', 'Singapore',\n",
       "       'Sint Maarten (Dutch part)', 'Slovakia', 'Slovenia',\n",
       "       'Solomon Islands', 'Somalia', 'South Africa', 'South America',\n",
       "       'South Korea', 'South Sudan', 'Spain', 'Sri Lanka', 'Sudan',\n",
       "       'Suriname', 'Sweden', 'Switzerland', 'Syria', 'Taiwan',\n",
       "       'Tajikistan', 'Tanzania', 'Thailand', 'Timor', 'Togo', 'Tokelau',\n",
       "       'Tonga', 'Trinidad and Tobago', 'Tunisia', 'Turkey',\n",
       "       'Turkmenistan', 'Turks and Caicos Islands', 'Tuvalu', 'Uganda',\n",
       "       'Ukraine', 'United Arab Emirates', 'United Kingdom',\n",
       "       'United States', 'Upper middle income', 'Uruguay', 'Uzbekistan',\n",
       "       'Vanuatu', 'Vatican', 'Venezuela', 'Vietnam', 'Wallis and Futuna',\n",
       "       'World', 'Yemen', 'Zambia', 'Zimbabwe'], dtype=object)"
      ]
     },
     "execution_count": 11,
     "metadata": {},
     "output_type": "execute_result"
    }
   ],
   "source": [
    "get_country_list()"
   ]
  },
  {
   "cell_type": "code",
   "execution_count": 94,
   "metadata": {},
   "outputs": [
    {
     "data": {
      "text/plain": [
       "array(['Afghanistan', 'Africa', 'Albania', 'Algeria', 'Andorra', 'Angola',\n",
       "       'Anguilla', 'Antigua and Barbuda', 'Argentina', 'Armenia', 'Aruba',\n",
       "       'Asia', 'Australia', 'Austria', 'Azerbaijan', 'Bahamas', 'Bahrain',\n",
       "       'Bangladesh', 'Barbados', 'Belarus', 'Belgium', 'Belize', 'Benin',\n",
       "       'Bermuda', 'Bhutan', 'Bolivia', 'Bonaire Sint Eustatius and Saba',\n",
       "       'Bosnia and Herzegovina', 'Botswana', 'Brazil',\n",
       "       'British Virgin Islands', 'Brunei', 'Bulgaria', 'Burkina Faso',\n",
       "       'Burundi', 'Cambodia', 'Cameroon', 'Canada', 'Cape Verde',\n",
       "       'Cayman Islands', 'Central African Republic', 'Chad', 'Chile',\n",
       "       'China', 'Colombia', 'Comoros', 'Congo', 'Cook Islands',\n",
       "       'Costa Rica', \"Cote d'Ivoire\", 'Croatia', 'Cuba', 'Curacao',\n",
       "       'Cyprus', 'Czechia', 'Democratic Republic of Congo', 'Denmark',\n",
       "       'Djibouti', 'Dominica', 'Dominican Republic', 'Ecuador', 'Egypt',\n",
       "       'El Salvador', 'Equatorial Guinea', 'Eritrea', 'Estonia',\n",
       "       'Eswatini', 'Ethiopia', 'Europe', 'European Union',\n",
       "       'Faeroe Islands', 'Falkland Islands', 'Fiji', 'Finland', 'France',\n",
       "       'French Polynesia', 'Gabon', 'Gambia', 'Georgia', 'Germany',\n",
       "       'Ghana', 'Gibraltar', 'Greece', 'Greenland', 'Grenada',\n",
       "       'Guatemala', 'Guernsey', 'Guinea', 'Guinea-Bissau', 'Guyana',\n",
       "       'Haiti', 'High income', 'Honduras', 'Hong Kong', 'Hungary',\n",
       "       'Iceland', 'India', 'Indonesia', 'International', 'Iran', 'Iraq',\n",
       "       'Ireland', 'Isle of Man', 'Israel', 'Italy', 'Jamaica', 'Japan',\n",
       "       'Jersey', 'Jordan', 'Kazakhstan', 'Kenya', 'Kiribati', 'Kosovo',\n",
       "       'Kuwait', 'Kyrgyzstan', 'Laos', 'Latvia', 'Lebanon', 'Lesotho',\n",
       "       'Liberia', 'Libya', 'Liechtenstein', 'Lithuania', 'Low income',\n",
       "       'Lower middle income', 'Luxembourg', 'Macao', 'Madagascar',\n",
       "       'Malawi', 'Malaysia', 'Maldives', 'Mali', 'Malta',\n",
       "       'Marshall Islands', 'Mauritania', 'Mauritius', 'Mexico',\n",
       "       'Micronesia (country)', 'Moldova', 'Monaco', 'Mongolia',\n",
       "       'Montenegro', 'Montserrat', 'Morocco', 'Mozambique', 'Myanmar',\n",
       "       'Namibia', 'Nauru', 'Nepal', 'Netherlands', 'New Caledonia',\n",
       "       'New Zealand', 'Nicaragua', 'Niger', 'Nigeria', 'Niue',\n",
       "       'North America', 'North Macedonia', 'Northern Cyprus', 'Norway',\n",
       "       'Oceania', 'Oman', 'Pakistan', 'Palau', 'Palestine', 'Panama',\n",
       "       'Papua New Guinea', 'Paraguay', 'Peru', 'Philippines', 'Pitcairn',\n",
       "       'Poland', 'Portugal', 'Qatar', 'Romania', 'Russia', 'Rwanda',\n",
       "       'Saint Helena', 'Saint Kitts and Nevis', 'Saint Lucia',\n",
       "       'Saint Pierre and Miquelon', 'Saint Vincent and the Grenadines',\n",
       "       'Samoa', 'San Marino', 'Sao Tome and Principe', 'Saudi Arabia',\n",
       "       'Senegal', 'Serbia', 'Seychelles', 'Sierra Leone', 'Singapore',\n",
       "       'Sint Maarten (Dutch part)', 'Slovakia', 'Slovenia',\n",
       "       'Solomon Islands', 'Somalia', 'South Africa', 'South America',\n",
       "       'South Korea', 'South Sudan', 'Spain', 'Sri Lanka', 'Sudan',\n",
       "       'Suriname', 'Sweden', 'Switzerland', 'Syria', 'Taiwan',\n",
       "       'Tajikistan', 'Tanzania', 'Thailand', 'Timor', 'Togo', 'Tokelau',\n",
       "       'Tonga', 'Trinidad and Tobago', 'Tunisia', 'Turkey',\n",
       "       'Turkmenistan', 'Turks and Caicos Islands', 'Tuvalu', 'Uganda',\n",
       "       'Ukraine', 'United Arab Emirates', 'United Kingdom',\n",
       "       'United States', 'Upper middle income', 'Uruguay', 'Uzbekistan',\n",
       "       'Vanuatu', 'Vatican', 'Venezuela', 'Vietnam', 'Wallis and Futuna',\n",
       "       'World', 'Yemen', 'Zambia', 'Zimbabwe'], dtype=object)"
      ]
     },
     "execution_count": 94,
     "metadata": {},
     "output_type": "execute_result"
    }
   ],
   "source": [
    "get_country_list(df)"
   ]
  },
  {
   "cell_type": "markdown",
   "metadata": {},
   "source": [
    "# INDIA"
   ]
  },
  {
   "cell_type": "markdown",
   "metadata": {},
   "source": [
    "#### NEW CASES"
   ]
  },
  {
   "cell_type": "code",
   "execution_count": 15,
   "metadata": {},
   "outputs": [],
   "source": [
    "DF_IND = data[data[\"location\"] == \"India\"]\n"
   ]
  },
  {
   "cell_type": "code",
   "execution_count": 22,
   "metadata": {},
   "outputs": [
    {
     "data": {
      "text/plain": [
       "38218773"
      ]
     },
     "execution_count": 22,
     "metadata": {},
     "output_type": "execute_result"
    }
   ],
   "source": [
    "DF_IND_TC = int(DF_IND.total_cases.iloc[-2])\n",
    "DF_IND_TC\n"
   ]
  },
  {
   "cell_type": "code",
   "execution_count": 28,
   "metadata": {},
   "outputs": [
    {
     "data": {
      "text/plain": [
       "317532"
      ]
     },
     "execution_count": 28,
     "metadata": {},
     "output_type": "execute_result"
    }
   ],
   "source": [
    "DF_IND_NC = int(DF_IND.new_cases.iloc[-2])\n",
    "DF_IND_NC\n"
   ]
  },
  {
   "cell_type": "code",
   "execution_count": 61,
   "metadata": {},
   "outputs": [
    {
     "data": {
      "text/plain": [
       "271549"
      ]
     },
     "execution_count": 61,
     "metadata": {},
     "output_type": "execute_result"
    }
   ],
   "source": [
    "# 7 days average\n",
    "DF_IND_7AVG = int(DF_IND[\"new_cases\"].tail(7).sum()/7)\n",
    "DF_IND_7AVG\n"
   ]
  },
  {
   "cell_type": "markdown",
   "metadata": {},
   "source": [
    "#### DEATH"
   ]
  },
  {
   "cell_type": "code",
   "execution_count": 65,
   "metadata": {},
   "outputs": [
    {
     "data": {
      "text/plain": [
       "487693"
      ]
     },
     "execution_count": 65,
     "metadata": {},
     "output_type": "execute_result"
    }
   ],
   "source": [
    "DF_IND_DEATH = int(DF_IND[\"total_deaths\"].iloc[-1])\n",
    "DF_IND_DEATH\n"
   ]
  },
  {
   "cell_type": "code",
   "execution_count": 69,
   "metadata": {},
   "outputs": [
    {
     "data": {
      "text/plain": [
       "491"
      ]
     },
     "execution_count": 69,
     "metadata": {},
     "output_type": "execute_result"
    }
   ],
   "source": [
    "DF_IND_ND = int(DF_IND[\"new_deaths\"].iloc[-2])\n",
    "DF_IND_ND\n"
   ]
  },
  {
   "cell_type": "code",
   "execution_count": 77,
   "metadata": {},
   "outputs": [
    {
     "data": {
      "text/plain": [
       "379"
      ]
     },
     "execution_count": 77,
     "metadata": {},
     "output_type": "execute_result"
    }
   ],
   "source": [
    "DF_IND_ND_7AVG = int(DF_IND[\"new_deaths\"].tail(8).iloc[:-1].sum()/7)\n",
    "DF_IND_ND_7AVG\n"
   ]
  },
  {
   "cell_type": "code",
   "execution_count": 83,
   "metadata": {},
   "outputs": [
    {
     "data": {
      "text/plain": [
       "date\n",
       "2022-01-13     96.0\n",
       "2022-01-14    621.0\n",
       "2022-01-15    314.0\n",
       "2022-01-16    385.0\n",
       "2022-01-17    310.0\n",
       "2022-01-18    441.0\n",
       "2022-01-19    491.0\n",
       "Name: new_deaths, dtype: float64"
      ]
     },
     "execution_count": 83,
     "metadata": {},
     "output_type": "execute_result"
    }
   ],
   "source": [
    "DF_IND[\"new_deaths\"].tail(8).iloc[:-1]\n"
   ]
  },
  {
   "cell_type": "code",
   "execution_count": null,
   "metadata": {},
   "outputs": [],
   "source": [
    "app.layout = html.Div(\n",
    "\n",
    "    children=[\n",
    "\n",
    "        html.H1(children=\"Avocado Analytics\",),\n",
    "\n",
    "        html.P(\n",
    "\n",
    "            children=\"Analyze the behavior of avocado prices\"\n",
    "\n",
    "            \" and the number of avocados sold in the US\"\n",
    "\n",
    "            \" between 2015 and 2018\",\n",
    "\n",
    "        ),\n",
    "\n",
    "        dcc.Graph(\n",
    "\n",
    "            figure={\n",
    "\n",
    "                \"data\": [\n",
    "\n",
    "                    {\n",
    "\n",
    "                        \"x\": data[\"Date\"],\n",
    "\n",
    "                        \"y\": data[\"AveragePrice\"],\n",
    "\n",
    "                        \"type\": \"lines\",\n",
    "\n",
    "                    },\n",
    "\n",
    "                ],\n",
    "\n",
    "                \"layout\": {\"title\": \"Average Price of Avocados\"},\n",
    "\n",
    "            },\n",
    "\n",
    "        ),\n",
    "\n",
    "        dcc.Graph(\n",
    "\n",
    "            figure={\n",
    "\n",
    "                \"data\": [\n",
    "\n",
    "                    {\n",
    "\n",
    "                        \"x\": data[\"Date\"],\n",
    "\n",
    "                        \"y\": data[\"Total Volume\"],\n",
    "\n",
    "                        \"type\": \"lines\",\n",
    "\n",
    "                    },\n",
    "\n",
    "                ],\n",
    "\n",
    "                \"layout\": {\"title\": \"Avocados Sold\"},\n",
    "\n",
    "            },\n",
    "\n",
    "        ),\n",
    "\n",
    "    ]\n",
    "\n",
    ")\n"
   ]
  },
  {
   "cell_type": "code",
   "execution_count": null,
   "metadata": {},
   "outputs": [],
   "source": [
    "dcc.Dropdown(\n",
    "        id='demo-dropdown',\n",
    "        options=[\n",
    "            {'label': 'New York City', 'value': 'NYC'},\n",
    "            {'label': 'Montreal', 'value': 'MTL'},\n",
    "            {'label': 'San Francisco', 'value': 'SF'}\n",
    "        ],\n",
    "        value='NYC'\n",
    "    ),\n",
    "    html.Div(id='dd-output-container')\n",
    "])\n",
    "\n",
    "\n",
    "@app.callback(\n",
    "    Output('dd-output-container', 'children'),\n",
    "    Input('demo-dropdown', 'value')\n",
    ")\n",
    "def update_output(value):\n",
    "    return 'You have selected \"{}\"'.format(value)\n"
   ]
  }
 ],
 "metadata": {
  "interpreter": {
   "hash": "31f2aee4e71d21fbe5cf8b01ff0e069b9275f58929596ceb00d14d90e3e16cd6"
  },
  "kernelspec": {
   "display_name": "Python 3.8.10 64-bit",
   "language": "python",
   "name": "python3"
  },
  "language_info": {
   "codemirror_mode": {
    "name": "ipython",
    "version": 3
   },
   "file_extension": ".py",
   "mimetype": "text/x-python",
   "name": "python",
   "nbconvert_exporter": "python",
   "pygments_lexer": "ipython3",
   "version": "3.8.10"
  },
  "orig_nbformat": 4
 },
 "nbformat": 4,
 "nbformat_minor": 2
}
